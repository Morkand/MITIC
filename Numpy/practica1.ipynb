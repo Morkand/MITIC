{
 "cells": [
  {
   "cell_type": "markdown",
   "metadata": {},
   "source": [
    "## Importacion de biblioteca"
   ]
  },
  {
   "cell_type": "code",
   "execution_count": 3,
   "metadata": {},
   "outputs": [],
   "source": [
    "import numpy as np"
   ]
  },
  {
   "cell_type": "markdown",
   "metadata": {},
   "source": [
    "## Creacion de arrays"
   ]
  },
  {
   "cell_type": "code",
   "execution_count": 6,
   "metadata": {},
   "outputs": [
    {
     "name": "stdout",
     "output_type": "stream",
     "text": [
      "[1 2 3 4 5]\n"
     ]
    }
   ],
   "source": [
    "lista = [1,2,3,4,5]\n",
    "array =  np.array(lista)\n",
    "print(array)"
   ]
  },
  {
   "cell_type": "markdown",
   "metadata": {},
   "source": [
    "## Array de unos y ceros"
   ]
  },
  {
   "cell_type": "code",
   "execution_count": 10,
   "metadata": {},
   "outputs": [
    {
     "name": "stdout",
     "output_type": "stream",
     "text": [
      "[[0. 0.]\n",
      " [0. 0.]\n",
      " [0. 0.]]\n",
      "[[1. 1. 1. 1.]\n",
      " [1. 1. 1. 1.]\n",
      " [1. 1. 1. 1.]]\n"
     ]
    }
   ],
   "source": [
    "ceros = np.zeros((3,2)) # se le puede pasar una tupla para representar la matriz a construir\n",
    "print(ceros)\n",
    "unos = np.ones((3,4))\n",
    "print(unos)"
   ]
  },
  {
   "cell_type": "markdown",
   "metadata": {},
   "source": [
    "## Rangos"
   ]
  },
  {
   "cell_type": "code",
   "execution_count": 11,
   "metadata": {},
   "outputs": [
    {
     "name": "stdout",
     "output_type": "stream",
     "text": [
      "[ 2  4  6  8 10]\n"
     ]
    }
   ],
   "source": [
    "rangos = np.arange(2,12,2) #toma de primer parametro el inicio,fin y salto\n",
    "print(rangos)"
   ]
  },
  {
   "cell_type": "markdown",
   "metadata": {},
   "source": [
    "## Numeros aleatorios"
   ]
  },
  {
   "cell_type": "code",
   "execution_count": 29,
   "metadata": {},
   "outputs": [
    {
     "name": "stdout",
     "output_type": "stream",
     "text": [
      "[[0.68365458 0.93280314 0.01673681]\n",
      " [0.11744406 0.8506283  0.48312324]\n",
      " [0.40823915 0.89227042 0.53291921]]\n",
      "[[7 9 4]\n",
      " [2 7 3]\n",
      " [8 2 8]]\n"
     ]
    }
   ],
   "source": [
    "numerosAleatorios = np.random.random((3,3)) #genera numeros aleatorios decimales principalmente\n",
    "print(numerosAleatorios)\n",
    "numerosAleatorios =  np.random.randint(2,10,(3,3),'int')\n",
    "print(numerosAleatorios)"
   ]
  },
  {
   "cell_type": "code",
   "execution_count": 30,
   "metadata": {},
   "outputs": [],
   "source": [
    "## Propiedades y Métodos de los Arrays"
   ]
  },
  {
   "cell_type": "code",
   "execution_count": 41,
   "metadata": {},
   "outputs": [
    {
     "name": "stdout",
     "output_type": "stream",
     "text": [
      "(2, 3)\n",
      "6\n",
      "2\n",
      "[[1 2]\n",
      " [3 4]\n",
      " [5 6]]\n",
      "[1 2 3 4 5 6]\n"
     ]
    }
   ],
   "source": [
    "array = np.array([[1, 2, 3], [4, 5, 6]])\n",
    "print(array.shape) #cantidad de filas y columnas\n",
    "print(array.size)# cantidad de valores del array\n",
    "print(array.ndim) #cantidad de dimensiones del array\n",
    "reshape = array.reshape((3,2))#cambia filas por columnas\n",
    "print(reshape)\n",
    "flatter =  array.flatten()\n",
    "print(flatter)#convierte un array multidimensional a un array unidimensional"
   ]
  },
  {
   "cell_type": "markdown",
   "metadata": {},
   "source": [
    "## Operaciones Básicas con Arrays"
   ]
  },
  {
   "cell_type": "code",
   "execution_count": 42,
   "metadata": {},
   "outputs": [
    {
     "name": "stdout",
     "output_type": "stream",
     "text": [
      "Suma: [5 7 9]\n",
      "Resta: [-3 -3 -3]\n"
     ]
    }
   ],
   "source": [
    "array1 = np.array([1, 2, 3])\n",
    "array2 = np.array([4, 5, 6])\n",
    "\n",
    "suma = array1 + array2\n",
    "resta = array1 - array2\n",
    "\n",
    "print(\"Suma:\", suma)\n",
    "print(\"Resta:\", resta)"
   ]
  },
  {
   "cell_type": "markdown",
   "metadata": {},
   "source": [
    "# Multiplicación y División"
   ]
  },
  {
   "cell_type": "code",
   "execution_count": 43,
   "metadata": {},
   "outputs": [
    {
     "name": "stdout",
     "output_type": "stream",
     "text": [
      "Multiplicación: [ 4 10 18]\n",
      "División: [0.25 0.4  0.5 ]\n"
     ]
    }
   ],
   "source": [
    "multiplicacion = array1 * array2\n",
    "division = array1 / array2\n",
    "\n",
    "print(\"Multiplicación:\", multiplicacion)\n",
    "print(\"División:\", division)"
   ]
  },
  {
   "cell_type": "markdown",
   "metadata": {},
   "source": [
    "# Operaciones universales. (Aplicados a cada elemento de la matriz)"
   ]
  },
  {
   "cell_type": "code",
   "execution_count": 44,
   "metadata": {},
   "outputs": [
    {
     "name": "stdout",
     "output_type": "stream",
     "text": [
      "Raíz cuadrada: [1.         1.41421356 1.73205081]\n",
      "Logaritmo natural: [0.         0.69314718 1.09861229]\n"
     ]
    }
   ],
   "source": [
    "array = np.array([1, 2, 3])\n",
    "\n",
    "sqrt = np.sqrt(array)\n",
    "log = np.log(array)\n",
    "\n",
    "print(\"Raíz cuadrada:\", sqrt)\n",
    "print(\"Logaritmo natural:\", log)"
   ]
  },
  {
   "cell_type": "markdown",
   "metadata": {},
   "source": [
    "#Indexación y Slicing de Arrays"
   ]
  },
  {
   "cell_type": "code",
   "execution_count": 47,
   "metadata": {},
   "outputs": [
    {
     "name": "stdout",
     "output_type": "stream",
     "text": [
      "1\n",
      "5\n",
      "[2 3 4]\n",
      "[1 2 3]\n",
      "[3 4 5]\n"
     ]
    }
   ],
   "source": [
    "array = np.array([1, 2, 3, 4, 5])\n",
    "print(array[0])  # Primer elemento\n",
    "print(array[-1])  # Último elemento\n",
    "#slicing\n",
    "print(array[1:4])  # Elementos del índice 1 al 3\n",
    "print(array[:3])  # Primeros tres elementos\n",
    "print(array[2:])  # Elementos desde el índice 2 hasta el final"
   ]
  },
  {
   "cell_type": "markdown",
   "metadata": {},
   "source": [
    "# Indexación y Slicing en Arrays Multidimensionales"
   ]
  },
  {
   "cell_type": "code",
   "execution_count": 48,
   "metadata": {},
   "outputs": [
    {
     "name": "stdout",
     "output_type": "stream",
     "text": [
      "6\n",
      "[[2 3]\n",
      " [5 6]]\n"
     ]
    }
   ],
   "source": [
    "array = np.array([[1, 2, 3], [4, 5, 6], [7, 8, 9]])\n",
    "print(array[1, 2])  # Elemento en la fila 1, columna 2\n",
    "print(array[0:2, 1:3])  # Subarray desde fila 0 a 1 y columna 1 a 2"
   ]
  },
  {
   "cell_type": "markdown",
   "metadata": {},
   "source": [
    "# Agregaciones y Estadísticas"
   ]
  },
  {
   "cell_type": "code",
   "execution_count": 49,
   "metadata": {},
   "outputs": [
    {
     "name": "stdout",
     "output_type": "stream",
     "text": [
      "15\n",
      "120\n"
     ]
    }
   ],
   "source": [
    "array = np.array([1, 2, 3, 4, 5])\n",
    "print(np.sum(array))  # Suma de todos los elementos\n",
    "print(np.prod(array))  # Producto de todos los elementos"
   ]
  },
  {
   "cell_type": "code",
   "execution_count": 50,
   "metadata": {},
   "outputs": [
    {
     "name": "stdout",
     "output_type": "stream",
     "text": [
      "3.0\n",
      "3.0\n",
      "1.4142135623730951\n",
      "2.0\n"
     ]
    }
   ],
   "source": [
    "print(np.mean(array))  # Media (promedio)\n",
    "print(np.median(array))  # Mediana\n",
    "print(np.std(array))  # Desviación estándar\n",
    "print(np.var(array))  # Varianza"
   ]
  },
  {
   "cell_type": "code",
   "execution_count": 51,
   "metadata": {},
   "outputs": [
    {
     "name": "stdout",
     "output_type": "stream",
     "text": [
      "[12 15 18]\n",
      "[ 6 15 24]\n"
     ]
    }
   ],
   "source": [
    "array = np.array([[1, 2, 3], [4, 5, 6], [7, 8, 9]])\n",
    "print(np.sum(array, axis=0))  # Suma a lo largo de las columnas\n",
    "print(np.sum(array, axis=1))  # Suma a lo largo de las filas"
   ]
  }
 ],
 "metadata": {
  "kernelspec": {
   "display_name": ".venv",
   "language": "python",
   "name": "python3"
  },
  "language_info": {
   "codemirror_mode": {
    "name": "ipython",
    "version": 3
   },
   "file_extension": ".py",
   "mimetype": "text/x-python",
   "name": "python",
   "nbconvert_exporter": "python",
   "pygments_lexer": "ipython3",
   "version": "3.13.0"
  }
 },
 "nbformat": 4,
 "nbformat_minor": 2
}
